{
 "cells": [
  {
   "cell_type": "code",
   "execution_count": 3,
   "id": "5ceb72b7",
   "metadata": {},
   "outputs": [
    {
     "name": "stdout",
     "output_type": "stream",
     "text": [
      "['Cat', 'Dog']\n",
      "[0 1]\n",
      "{'Cat': 0, 'Dog': 1}\n"
     ]
    }
   ],
   "source": [
    "import os\n",
    "import numpy as np\n",
    "\n",
    "data_path = r'D:\\Python\\Dl/PetImages' # path\n",
    "\n",
    "categories = os.listdir(data_path) #path eke thiyana folder name tika denwa\n",
    "print(categories)\n",
    "\n",
    "labels = np.arange(len(categories)) #numbers walin labels define kargannwa\n",
    "print(labels)\n",
    "\n",
    "label_dict=dict(zip(categories,labels)) #python dictionary hdagnnwa categories,labels wltai = {'Cat': 0, 'Dog': 1}\n",
    "print(label_dict)"
   ]
  },
  {
   "cell_type": "code",
   "execution_count": 7,
   "id": "a499abac",
   "metadata": {},
   "outputs": [
    {
     "name": "stdout",
     "output_type": "stream",
     "text": [
      "D:\\Python\\Dl/PetImages\\Cat\n",
      "D:\\Python\\Dl/PetImages\\Dog\n"
     ]
    }
   ],
   "source": [
    "import cv2 #import opencv\n",
    "\n",
    "for category in categories:\n",
    "    \n",
    "    imgs_path = os.path.join(data_path,category) # images path eka hadagannwa\n",
    "    \n",
    "    print(imgs_path)"
   ]
  },
  {
   "cell_type": "code",
   "execution_count": null,
   "id": "930a78d1",
   "metadata": {},
   "outputs": [],
   "source": []
  }
 ],
 "metadata": {
  "kernelspec": {
   "display_name": "Python 3 (ipykernel)",
   "language": "python",
   "name": "python3"
  },
  "language_info": {
   "codemirror_mode": {
    "name": "ipython",
    "version": 3
   },
   "file_extension": ".py",
   "mimetype": "text/x-python",
   "name": "python",
   "nbconvert_exporter": "python",
   "pygments_lexer": "ipython3",
   "version": "3.9.7"
  }
 },
 "nbformat": 4,
 "nbformat_minor": 5
}
